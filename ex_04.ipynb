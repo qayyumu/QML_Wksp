{
 "cells": [
  {
   "cell_type": "markdown",
   "metadata": {},
   "source": [
    "###pennylane first example\n"
   ]
  },
  {
   "cell_type": "code",
   "execution_count": 136,
   "metadata": {},
   "outputs": [],
   "source": [
    "import pennylane as qml\n",
    "from pennylane import numpy as np"
   ]
  },
  {
   "cell_type": "code",
   "execution_count": 137,
   "metadata": {},
   "outputs": [],
   "source": [
    "dev = qml.device('default.qubit', wires = 4)"
   ]
  },
  {
   "cell_type": "code",
   "execution_count": 138,
   "metadata": {},
   "outputs": [],
   "source": [
    "###each qubit is used for input\n",
    "def statepreparation(x):\n",
    "    qml.BasisState(x, wires=[0, 1, 2, 3])\n"
   ]
  },
  {
   "cell_type": "code",
   "execution_count": 139,
   "metadata": {},
   "outputs": [],
   "source": [
    "\n",
    "def layer(W):\n",
    "\n",
    "    ### each qubit is applied with rotation\n",
    "    qml.Rot(W[0, 0], W[0, 1], W[0, 2], wires=0)\n",
    "    qml.Rot(W[1, 0], W[1, 1], W[1, 2], wires=1)\n",
    "    qml.Rot(W[2, 0], W[2, 1], W[2, 2], wires=2)\n",
    "    qml.Rot(W[3, 0], W[3, 1], W[3, 2], wires=3)\n",
    "\n",
    "    ##applied entanglement with cnot\n",
    "    qml.CNOT(wires=[0, 1])\n",
    "    qml.CNOT(wires=[1, 2])\n",
    "    qml.CNOT(wires=[2, 3])\n",
    "    qml.CNOT(wires=[3, 0])"
   ]
  },
  {
   "cell_type": "code",
   "execution_count": 140,
   "metadata": {},
   "outputs": [],
   "source": [
    "@qml.qnode(dev, interface=\"autograd\")          \n",
    "def circuit(weights, x):\n",
    "    statepreparation(x)   #prepare the state\n",
    "    for W in weights:\n",
    "        layer(W)    #prepare the weight\n",
    "    return qml.expval(qml.PauliZ(0))   #measure becz it is binary classification\n",
    "\n",
    "\n",
    "def variational_classifier(weights, bias, x):\n",
    "    return circuit(weights, x) + bias     ###define the variational classifier"
   ]
  },
  {
   "cell_type": "code",
   "execution_count": 141,
   "metadata": {},
   "outputs": [],
   "source": [
    "def square_loss(labels, predictions):\n",
    "    loss = 0\n",
    "    for l, p in zip(labels, predictions):\n",
    "        loss = loss + (l - p) ** 2\n",
    "\n",
    "    loss = loss / len(labels)\n",
    "    return loss"
   ]
  },
  {
   "cell_type": "code",
   "execution_count": 142,
   "metadata": {},
   "outputs": [],
   "source": [
    "def accuracy(labels, predictions):\n",
    "    loss = 0\n",
    "    for l, p in zip(labels, predictions):\n",
    "        if abs(l - p) < 1e-5:\n",
    "            loss = loss + 1\n",
    "    loss = loss / len(labels)\n",
    "\n",
    "    return loss"
   ]
  },
  {
   "cell_type": "code",
   "execution_count": 143,
   "metadata": {},
   "outputs": [],
   "source": [
    "def cost(weights, bias, X, Y):\n",
    "    predictions = [variational_classifier(weights, bias, x) for x in X]\n",
    "    return square_loss(Y, predictions)    ###calculate the cost function"
   ]
  },
  {
   "cell_type": "code",
   "execution_count": 144,
   "metadata": {},
   "outputs": [
    {
     "name": "stdout",
     "output_type": "stream",
     "text": [
      "X = [0. 0. 0. 0.], Y = -1\n",
      "X = [0. 0. 0. 1.], Y =  1\n",
      "X = [0. 0. 1. 0.], Y =  1\n",
      "X = [0. 0. 1. 1.], Y = -1\n",
      "X = [0. 1. 0. 0.], Y =  1\n",
      "...\n"
     ]
    }
   ],
   "source": [
    "data = np.loadtxt(\"data.txt\")\n",
    "\n",
    "X = np.array(data[:, :-1], requires_grad=False)\n",
    "Y = np.array(data[:, -1], requires_grad=False)\n",
    "# Y = Y * 2 - np.ones(len(Y))  # shift label from {0, 1} to {-1, 1}\n",
    "\n",
    "for i in range(5):\n",
    "    print(\"X = {}, Y = {: d}\".format(X[i], int(Y[i])))\n",
    "print(\"...\")"
   ]
  },
  {
   "cell_type": "code",
   "execution_count": 145,
   "metadata": {},
   "outputs": [
    {
     "name": "stdout",
     "output_type": "stream",
     "text": [
      "[[[ 0.01764052  0.00400157  0.00978738]\n",
      "  [ 0.02240893  0.01867558 -0.00977278]\n",
      "  [ 0.00950088 -0.00151357 -0.00103219]\n",
      "  [ 0.00410599  0.00144044  0.01454274]]\n",
      "\n",
      " [[ 0.00761038  0.00121675  0.00443863]\n",
      "  [ 0.00333674  0.01494079 -0.00205158]\n",
      "  [ 0.00313068 -0.00854096 -0.0255299 ]\n",
      "  [ 0.00653619  0.00864436 -0.00742165]]] 0.0\n"
     ]
    }
   ],
   "source": [
    "np.random.seed(0)\n",
    "num_qubits = 4\n",
    "num_layers = 2\n",
    "weights_init = 0.01 * np.random.randn(num_layers, num_qubits, 3, requires_grad=True)\n",
    "bias_init = np.array(0.0, requires_grad=True)\n",
    "print(weights_init, bias_init)"
   ]
  },
  {
   "cell_type": "code",
   "execution_count": 152,
   "metadata": {},
   "outputs": [
    {
     "name": "stdout",
     "output_type": "stream",
     "text": [
      "Iter:     1 | Cost: 1.8902228 | Accuracy: 0.5000000 \n",
      "Iter:     2 | Cost: 1.8650652 | Accuracy: 0.5000000 \n",
      "Iter:     3 | Cost: 1.9524107 | Accuracy: 0.5000000 \n",
      "Iter:     4 | Cost: 1.9523922 | Accuracy: 0.5000000 \n",
      "Iter:     5 | Cost: 0.6124706 | Accuracy: 0.8333333 \n",
      "Iter:     6 | Cost: 1.3013395 | Accuracy: 0.5000000 \n",
      "Iter:     7 | Cost: 1.2001988 | Accuracy: 0.8333333 \n",
      "Iter:     8 | Cost: 1.0289143 | Accuracy: 0.6666667 \n",
      "Iter:     9 | Cost: 1.4134227 | Accuracy: 0.5000000 \n",
      "Iter:    10 | Cost: 1.2598158 | Accuracy: 0.5000000 \n",
      "Iter:    11 | Cost: 3.0896489 | Accuracy: 0.5000000 \n",
      "Iter:    12 | Cost: 1.1259599 | Accuracy: 0.6666667 \n",
      "Iter:    13 | Cost: 1.3754625 | Accuracy: 0.5000000 \n",
      "Iter:    14 | Cost: 0.9407202 | Accuracy: 0.5000000 \n",
      "Iter:    15 | Cost: 1.0019464 | Accuracy: 0.5000000 \n",
      "Iter:    16 | Cost: 1.2474381 | Accuracy: 0.5000000 \n",
      "Iter:    17 | Cost: 0.8409135 | Accuracy: 0.8333333 \n",
      "Iter:    18 | Cost: 0.6170311 | Accuracy: 0.8333333 \n",
      "Iter:    19 | Cost: 0.6807921 | Accuracy: 0.6666667 \n",
      "Iter:    20 | Cost: 0.4181761 | Accuracy: 0.8333333 \n",
      "Iter:    21 | Cost: 0.3000653 | Accuracy: 0.8333333 \n",
      "Iter:    22 | Cost: 0.1770344 | Accuracy: 1.0000000 \n",
      "Iter:    23 | Cost: 0.0908931 | Accuracy: 1.0000000 \n",
      "Iter:    24 | Cost: 0.0309941 | Accuracy: 1.0000000 \n",
      "Iter:    25 | Cost: 0.0183005 | Accuracy: 1.0000000 \n",
      "Iter:    26 | Cost: 0.0180467 | Accuracy: 1.0000000 \n",
      "Iter:    27 | Cost: 0.0246846 | Accuracy: 1.0000000 \n",
      "Iter:    28 | Cost: 0.0276826 | Accuracy: 1.0000000 \n",
      "Iter:    29 | Cost: 0.0228282 | Accuracy: 1.0000000 \n",
      "Iter:    30 | Cost: 0.0087284 | Accuracy: 1.0000000 \n",
      "Final weights and bias with Cost and accuracy 0.1770344 | Accuracy: 1.0000000 \n"
     ]
    }
   ],
   "source": [
    "opt = qml.optimize.NesterovMomentumOptimizer(0.5)\n",
    "batch_size = 5\n",
    "weights = weights_init\n",
    "bias = bias_init\n",
    "max_weight =weights.copy()\n",
    "max_bias = bias.copy()\n",
    "max_acc = 0\n",
    "for it in range(30):\n",
    "    # Update the weights by one optimizer step\n",
    "    batch_index = np.random.randint(0, len(X), (batch_size,))\n",
    "    X_batch = X[batch_index]\n",
    "    Y_batch = Y[batch_index]\n",
    "    weights, bias, _, _ = opt.step(cost, weights, bias, X_batch, Y_batch)   ##update the weights and bias\n",
    "    # Compute accuracy\n",
    "    predictions = [np.sign(variational_classifier(weights, bias, x)) for x in X]   ###calculate the accuracy\n",
    "    acc = accuracy(Y, predictions)\n",
    "    print(\n",
    "        \"Iter: {:5d} | Cost: {:0.7f} | Accuracy: {:0.7f} \".format(\n",
    "            it + 1, cost(weights, bias, X, Y), acc\n",
    "        )\n",
    "    )\n",
    "    if acc > max_acc:\n",
    "        max_acc = acc\n",
    "        max_weight = weights.copy()\n",
    "        max_bias = bias.copy()\n",
    "        # print('max_acc',max_acc)\n",
    "\n",
    "print(\n",
    "        \"Final weights and bias with Cost and accuracy {:0.7f} | Accuracy: {:0.7f} \".format(\n",
    "            cost(max_weight, max_bias, X, Y), max_acc\n",
    "        )\n",
    "    )"
   ]
  }
 ],
 "metadata": {
  "kernelspec": {
   "display_name": "pennylane-env",
   "language": "python",
   "name": "python3"
  },
  "language_info": {
   "codemirror_mode": {
    "name": "ipython",
    "version": 3
   },
   "file_extension": ".py",
   "mimetype": "text/x-python",
   "name": "python",
   "nbconvert_exporter": "python",
   "pygments_lexer": "ipython3",
   "version": "3.9.21"
  }
 },
 "nbformat": 4,
 "nbformat_minor": 2
}
