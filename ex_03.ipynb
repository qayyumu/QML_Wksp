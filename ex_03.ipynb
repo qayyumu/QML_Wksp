{
 "cells": [
  {
   "cell_type": "markdown",
   "metadata": {},
   "source": [
    "###pennylane first example\n"
   ]
  },
  {
   "cell_type": "code",
   "execution_count": 1,
   "metadata": {},
   "outputs": [],
   "source": [
    "import pennylane as qml\n",
    "from pennylane import numpy as np"
   ]
  },
  {
   "cell_type": "code",
   "execution_count": 2,
   "metadata": {},
   "outputs": [],
   "source": [
    "dev = qml.device('default.qubit', wires = 3)"
   ]
  },
  {
   "cell_type": "code",
   "execution_count": 3,
   "metadata": {},
   "outputs": [],
   "source": [
    "def quantum_circuit(params):\n",
    "    \n",
    "    qml.RX(params[0], wires = 0)\n",
    "    qml.RY(params[1], wires = 0)\n",
    "    qml.CNOT(wires=[0,1])\n",
    "    qml.RY(params[2], wires = 1)    \n",
    "    qml.CNOT(wires=[1,2])\n",
    "    qml.RY(params[3], wires = 2)\n",
    "    qml.RY(params[4], wires = 0)    \n"
   ]
  },
  {
   "cell_type": "code",
   "execution_count": 4,
   "metadata": {},
   "outputs": [],
   "source": [
    "@qml.qnode(dev)\n",
    "def quantum_node(params):\n",
    "    \n",
    "    quantum_circuit(params)\n",
    "    return qml.expval(qml.PauliZ(0))    \n"
   ]
  },
  {
   "cell_type": "code",
   "execution_count": 5,
   "metadata": {},
   "outputs": [],
   "source": [
    "def cost_function(params):\n",
    "    return quantum_node(params) \n"
   ]
  },
  {
   "cell_type": "code",
   "execution_count": 6,
   "metadata": {},
   "outputs": [
    {
     "data": {
      "text/plain": [
       "tensor(0.8042689, requires_grad=True)"
      ]
     },
     "execution_count": 6,
     "metadata": {},
     "output_type": "execute_result"
    }
   ],
   "source": [
    "init_params = np.array([0.1,0.4,0.3,0.4,0.5], requires_grad=True)\n",
    "cost_function(init_params)"
   ]
  },
  {
   "cell_type": "code",
   "execution_count": 7,
   "metadata": {},
   "outputs": [
    {
     "name": "stdout",
     "output_type": "stream",
     "text": [
      "Cost after step    20: -0.9999826\n",
      "Cost after step    40: -1.0000000\n",
      "Cost after step    60: -1.0000000\n",
      "Cost after step    80: -1.0000000\n",
      "Cost after step   100: -1.0000000\n",
      "Optimized parameters: [0.   0.   0.3  0.4  3.14]\n"
     ]
    }
   ],
   "source": [
    "opt = qml.GradientDescentOptimizer(stepsize=0.4)\n",
    "steps = 100\n",
    "params = init_params\n",
    "for i in range(steps):\n",
    "    # update the circuit parameters\n",
    "    params = opt.step(cost_function, params)\n",
    "    if (i + 1) % 20 == 0:\n",
    "        print(\"Cost after step {:5d}: {: .7f}\".format(i + 1, cost_function(params)))\n",
    "\n",
    "print(\"Optimized parameters: {}\".format(params.round(2)))\n"
   ]
  }
 ],
 "metadata": {
  "kernelspec": {
   "display_name": "pennylane-env",
   "language": "python",
   "name": "python3"
  },
  "language_info": {
   "codemirror_mode": {
    "name": "ipython",
    "version": 3
   },
   "file_extension": ".py",
   "mimetype": "text/x-python",
   "name": "python",
   "nbconvert_exporter": "python",
   "pygments_lexer": "ipython3",
   "version": "3.9.21"
  }
 },
 "nbformat": 4,
 "nbformat_minor": 2
}
