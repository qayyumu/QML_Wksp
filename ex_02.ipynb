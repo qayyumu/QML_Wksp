{
 "cells": [
  {
   "cell_type": "markdown",
   "metadata": {},
   "source": [
    "###pennylane parameterized rotation \n"
   ]
  },
  {
   "cell_type": "code",
   "execution_count": 6,
   "metadata": {},
   "outputs": [],
   "source": [
    "import pennylane as qml\n",
    "from pennylane import numpy as np"
   ]
  },
  {
   "cell_type": "code",
   "execution_count": 7,
   "metadata": {},
   "outputs": [],
   "source": [
    "dev = qml.device('default.qubit', wires = 3)"
   ]
  },
  {
   "cell_type": "code",
   "execution_count": 8,
   "metadata": {},
   "outputs": [],
   "source": [
    "def quantum_circuit(params):\n",
    "    \n",
    "    qml.RX(params[0], wires = 0)\n",
    "    qml.RY(params[1], wires = 0)\n",
    "    qml.CNOT(wires=[0,1])\n",
    "    qml.RY(params[2], wires = 1)    \n",
    "    qml.CNOT(wires=[1,2])\n",
    "    qml.RY(params[3], wires = 2)\n",
    "    qml.RY(params[4], wires = 0)    \n"
   ]
  },
  {
   "cell_type": "code",
   "execution_count": 9,
   "metadata": {},
   "outputs": [],
   "source": [
    "@qml.qnode(dev)\n",
    "def quantum_node(params):\n",
    "    \n",
    "    quantum_circuit(params)\n",
    "    return qml.expval(qml.PauliZ(0))    \n"
   ]
  },
  {
   "cell_type": "code",
   "execution_count": 10,
   "metadata": {},
   "outputs": [
    {
     "data": {
      "text/plain": [
       "tensor(0.8042689, requires_grad=True)"
      ]
     },
     "execution_count": 10,
     "metadata": {},
     "output_type": "execute_result"
    }
   ],
   "source": [
    "quantum_node([0.1, 0.4, 0.3, 0.4, 0.5])"
   ]
  }
 ],
 "metadata": {
  "kernelspec": {
   "display_name": "pennylane-env",
   "language": "python",
   "name": "python3"
  },
  "language_info": {
   "codemirror_mode": {
    "name": "ipython",
    "version": 3
   },
   "file_extension": ".py",
   "mimetype": "text/x-python",
   "name": "python",
   "nbconvert_exporter": "python",
   "pygments_lexer": "ipython3",
   "version": "3.9.21"
  }
 },
 "nbformat": 4,
 "nbformat_minor": 2
}
